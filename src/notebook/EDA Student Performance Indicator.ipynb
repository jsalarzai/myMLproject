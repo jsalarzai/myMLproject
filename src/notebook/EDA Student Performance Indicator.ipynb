{
 "cells": [
  {
   "cell_type": "markdown",
   "id": "c62c1340",
   "metadata": {},
   "source": [
    "# Student Performance Indicator"
   ]
  },
  {
   "cell_type": "markdown",
   "id": "8346df94",
   "metadata": {},
   "source": [
    "## Life cycle of ML project."
   ]
  },
  {
   "cell_type": "markdown",
   "id": "9fff6085",
   "metadata": {},
   "source": [
    "- Understanding the problem statement\n",
    "- Data Collection\n",
    "- Data checks to perform\n",
    "- Exploratory Data Analysis\n",
    "- Model Training \n",
    "- Choose best model"
   ]
  },
  {
   "cell_type": "markdown",
   "id": "891d41c9",
   "metadata": {},
   "source": [
    "## 1. Problem Statement"
   ]
  },
  {
   "cell_type": "markdown",
   "id": "3cafabb1",
   "metadata": {},
   "source": [
    "- How different features affect the test score of the students.  "
   ]
  },
  {
   "cell_type": "markdown",
   "id": "d860bba4",
   "metadata": {},
   "source": [
    "## 2. Data Collection"
   ]
  },
  {
   "cell_type": "markdown",
   "id": "a2f28f70",
   "metadata": {},
   "source": [
    "- [Data Source](https://www.kaggle.com/datasets/spscientist/students-performance-in-exams?select=StudentsPerformance.csv)\n",
    "- The Data consists of 8 columns and 1000 rows"
   ]
  },
  {
   "cell_type": "markdown",
   "id": "73680edf",
   "metadata": {},
   "source": [
    "### 2.1 Importing required libraries\n",
    "`numpy, pandas, matplotlib, seaborn and warning libraries`"
   ]
  },
  {
   "cell_type": "code",
   "execution_count": 5,
   "id": "4abbf27e",
   "metadata": {},
   "outputs": [],
   "source": [
    "import numpy as np\n",
    "import pandas as pd\n",
    "import seaborn as sns\n",
    "import matplotlib.pyplot as plt\n",
    "%matplotlib inline\n",
    "import warnings\n",
    "warnings.filterwarnings('ignore')"
   ]
  },
  {
   "cell_type": "markdown",
   "id": "407260aa",
   "metadata": {},
   "source": [
    "### Importing data as pandas dataframe"
   ]
  },
  {
   "cell_type": "code",
   "execution_count": 6,
   "id": "02b6b818",
   "metadata": {},
   "outputs": [],
   "source": [
    "import pandas as pd\n",
    "\n",
    "data = 'sdata'\n",
    "df = pd.read_csv('data/{}.csv'.format(data))"
   ]
  },
  {
   "cell_type": "code",
   "execution_count": 7,
   "id": "b214bd1e",
   "metadata": {},
   "outputs": [
    {
     "data": {
      "text/html": [
       "<div>\n",
       "<style scoped>\n",
       "    .dataframe tbody tr th:only-of-type {\n",
       "        vertical-align: middle;\n",
       "    }\n",
       "\n",
       "    .dataframe tbody tr th {\n",
       "        vertical-align: top;\n",
       "    }\n",
       "\n",
       "    .dataframe thead th {\n",
       "        text-align: right;\n",
       "    }\n",
       "</style>\n",
       "<table border=\"1\" class=\"dataframe\">\n",
       "  <thead>\n",
       "    <tr style=\"text-align: right;\">\n",
       "      <th></th>\n",
       "      <th>gender</th>\n",
       "      <th>race/ethnicity</th>\n",
       "      <th>parental level of education</th>\n",
       "      <th>lunch</th>\n",
       "      <th>test preparation course</th>\n",
       "      <th>math score</th>\n",
       "      <th>reading score</th>\n",
       "      <th>writing score</th>\n",
       "    </tr>\n",
       "  </thead>\n",
       "  <tbody>\n",
       "    <tr>\n",
       "      <th>0</th>\n",
       "      <td>female</td>\n",
       "      <td>group B</td>\n",
       "      <td>bachelor's degree</td>\n",
       "      <td>standard</td>\n",
       "      <td>none</td>\n",
       "      <td>72</td>\n",
       "      <td>72</td>\n",
       "      <td>74</td>\n",
       "    </tr>\n",
       "    <tr>\n",
       "      <th>1</th>\n",
       "      <td>female</td>\n",
       "      <td>group C</td>\n",
       "      <td>some college</td>\n",
       "      <td>standard</td>\n",
       "      <td>completed</td>\n",
       "      <td>69</td>\n",
       "      <td>90</td>\n",
       "      <td>88</td>\n",
       "    </tr>\n",
       "    <tr>\n",
       "      <th>2</th>\n",
       "      <td>female</td>\n",
       "      <td>group B</td>\n",
       "      <td>master's degree</td>\n",
       "      <td>standard</td>\n",
       "      <td>none</td>\n",
       "      <td>90</td>\n",
       "      <td>95</td>\n",
       "      <td>93</td>\n",
       "    </tr>\n",
       "    <tr>\n",
       "      <th>3</th>\n",
       "      <td>male</td>\n",
       "      <td>group A</td>\n",
       "      <td>associate's degree</td>\n",
       "      <td>free/reduced</td>\n",
       "      <td>none</td>\n",
       "      <td>47</td>\n",
       "      <td>57</td>\n",
       "      <td>44</td>\n",
       "    </tr>\n",
       "    <tr>\n",
       "      <th>4</th>\n",
       "      <td>male</td>\n",
       "      <td>group C</td>\n",
       "      <td>some college</td>\n",
       "      <td>standard</td>\n",
       "      <td>none</td>\n",
       "      <td>76</td>\n",
       "      <td>78</td>\n",
       "      <td>75</td>\n",
       "    </tr>\n",
       "    <tr>\n",
       "      <th>...</th>\n",
       "      <td>...</td>\n",
       "      <td>...</td>\n",
       "      <td>...</td>\n",
       "      <td>...</td>\n",
       "      <td>...</td>\n",
       "      <td>...</td>\n",
       "      <td>...</td>\n",
       "      <td>...</td>\n",
       "    </tr>\n",
       "    <tr>\n",
       "      <th>995</th>\n",
       "      <td>female</td>\n",
       "      <td>group E</td>\n",
       "      <td>master's degree</td>\n",
       "      <td>standard</td>\n",
       "      <td>completed</td>\n",
       "      <td>88</td>\n",
       "      <td>99</td>\n",
       "      <td>95</td>\n",
       "    </tr>\n",
       "    <tr>\n",
       "      <th>996</th>\n",
       "      <td>male</td>\n",
       "      <td>group C</td>\n",
       "      <td>high school</td>\n",
       "      <td>free/reduced</td>\n",
       "      <td>none</td>\n",
       "      <td>62</td>\n",
       "      <td>55</td>\n",
       "      <td>55</td>\n",
       "    </tr>\n",
       "    <tr>\n",
       "      <th>997</th>\n",
       "      <td>female</td>\n",
       "      <td>group C</td>\n",
       "      <td>high school</td>\n",
       "      <td>free/reduced</td>\n",
       "      <td>completed</td>\n",
       "      <td>59</td>\n",
       "      <td>71</td>\n",
       "      <td>65</td>\n",
       "    </tr>\n",
       "    <tr>\n",
       "      <th>998</th>\n",
       "      <td>female</td>\n",
       "      <td>group D</td>\n",
       "      <td>some college</td>\n",
       "      <td>standard</td>\n",
       "      <td>completed</td>\n",
       "      <td>68</td>\n",
       "      <td>78</td>\n",
       "      <td>77</td>\n",
       "    </tr>\n",
       "    <tr>\n",
       "      <th>999</th>\n",
       "      <td>female</td>\n",
       "      <td>group D</td>\n",
       "      <td>some college</td>\n",
       "      <td>free/reduced</td>\n",
       "      <td>none</td>\n",
       "      <td>77</td>\n",
       "      <td>86</td>\n",
       "      <td>86</td>\n",
       "    </tr>\n",
       "  </tbody>\n",
       "</table>\n",
       "<p>1000 rows × 8 columns</p>\n",
       "</div>"
      ],
      "text/plain": [
       "     gender race/ethnicity parental level of education         lunch  \\\n",
       "0    female        group B           bachelor's degree      standard   \n",
       "1    female        group C                some college      standard   \n",
       "2    female        group B             master's degree      standard   \n",
       "3      male        group A          associate's degree  free/reduced   \n",
       "4      male        group C                some college      standard   \n",
       "..      ...            ...                         ...           ...   \n",
       "995  female        group E             master's degree      standard   \n",
       "996    male        group C                 high school  free/reduced   \n",
       "997  female        group C                 high school  free/reduced   \n",
       "998  female        group D                some college      standard   \n",
       "999  female        group D                some college  free/reduced   \n",
       "\n",
       "    test preparation course  math score  reading score  writing score  \n",
       "0                      none          72             72             74  \n",
       "1                 completed          69             90             88  \n",
       "2                      none          90             95             93  \n",
       "3                      none          47             57             44  \n",
       "4                      none          76             78             75  \n",
       "..                      ...         ...            ...            ...  \n",
       "995               completed          88             99             95  \n",
       "996                    none          62             55             55  \n",
       "997               completed          59             71             65  \n",
       "998               completed          68             78             77  \n",
       "999                    none          77             86             86  \n",
       "\n",
       "[1000 rows x 8 columns]"
      ]
     },
     "execution_count": 7,
     "metadata": {},
     "output_type": "execute_result"
    }
   ],
   "source": [
    "df"
   ]
  },
  {
   "cell_type": "code",
   "execution_count": 9,
   "id": "c260171f",
   "metadata": {},
   "outputs": [
    {
     "data": {
      "text/plain": [
       "(1000, 8)"
      ]
     },
     "execution_count": 9,
     "metadata": {},
     "output_type": "execute_result"
    }
   ],
   "source": [
    "df.shape"
   ]
  },
  {
   "cell_type": "markdown",
   "id": "f975b43a",
   "metadata": {},
   "source": [
    "# 3. Dataset Description\n",
    "\n",
    "This dataset can be found on Kaggle, provided by Spscientist. It's related to the performance of students in exams, with different influencing factors. You can access the dataset from the following link: [Dataset Link](https://www.kaggle.com/datasets/spscientist/students-performance-in-exams?select=StudentsPerformance.csv)\n",
    "\n",
    "## Columns Description:\n",
    "\n",
    "* **Gender**\n",
    "    * This represents the sex of the student. It's a categorical value with two categories: 'Male' and 'Female'.\n",
    "\n",
    "* **Race/Ethnicity**\n",
    "    * This column reflects the racial/ethnic background of the students. It is also a categorical value, with several distinct groups labeled from 'group A' to 'group E'.\n",
    "\n",
    "* **Parental Level of Education**\n",
    "    * This describes the highest level of education attained by the student's parents. This could range from high school, some college, associate's degree, bachelor's degree, master's degree, etc.\n",
    "\n",
    "* **Lunch**\n",
    "    * This represents whether the student is on a standard or free/reduced lunch program at the school. This could be an indicator of the socioeconomic status of the student's family.\n",
    "\n",
    "* **Test Preparation Course**\n",
    "    * This column indicates whether the student completed a test preparation course or not. This is a binary categorical feature with possible values of 'none' or 'completed'.\n",
    "\n",
    "* **Math Score**\n",
    "    * This column represents the student's score in Mathematics. It's a numerical value ranging from 0 to 100.\n",
    "\n",
    "* **Reading Score**\n",
    "    * This column represents the student's score in Reading. It's a numerical value ranging from 0 to 100.\n",
    "\n",
    "* **Writing Score**\n",
    "    * This column represents the student's score in Writing. It's a numerical value ranging from 0 to 100.\n"
   ]
  },
  {
   "cell_type": "markdown",
   "id": "4a646f0b",
   "metadata": {},
   "source": [
    "# 3. Data Checks Description\n",
    "\n",
    "## Data Loading\n",
    "\n",
    "1. **Check successful data load**: Ensure the data has been loaded correctly without any errors.\n",
    "\n",
    "## Missing Data\n",
    "\n",
    "1. **Check for Null values**: Check if there are any missing values (NaN, Null, None, etc.) in the dataset for all columns.\n",
    "\n",
    "2. **Percentage of missing data**: If there are missing values, compute the percentage of missing data. This can help decide whether to impute these missing values or discard the column entirely if the majority of values are missing.\n",
    "\n",
    "## Data Quality\n",
    "\n",
    "1. **Data types**: Check the data types of each column and make sure they match the description. If there's a mismatch, data conversion might be necessary.\n",
    "\n",
    "2. **Unique values**: For categorical variables, check the unique values and their count. This is useful for understanding the distribution of the categories and identifying any unexpected or erroneous categories.\n",
    "\n",
    "3. **Statistical summary**: For numerical columns, check the summary statistics like mean, median, mode, min, max, standard deviation etc. This helps understand the distribution of the data.\n",
    "\n",
    "4. **Outliers**: Look for any outliers in the numeric columns, as they may affect the overall analysis and model performance. Outliers can be identified by visually plotting the data or statistically (for example, using Z-score, IQR).\n",
    "\n",
    "## Consistency\n",
    "\n",
    "1. **Consistency of categories**: Check if there are inconsistencies in the categorical columns. For example, are 'Male' and 'male' being treated as different categories? \n",
    "\n",
    "2. **Data range**: Check if the values of numerical columns (e.g., scores) fall within the expected range (e.g., 0-100 for exam scores).\n",
    "\n",
    "## Correlation\n",
    "\n",
    "1. **Correlation matrix**: It's useful to calculate a correlation matrix between numerical variables to see if there are highly correlated variables.\n",
    "\n",
    "## Duplicates\n",
    "\n",
    "1. **Duplicate rows**: Check if there are any duplicate rows in the dataset. Duplicate data can bias the analysis, so you need to decide whether to keep, remove, or consolidate duplicate entries.\n",
    "\n",
    "Remember, each of these checks may reveal issues with the data that need to be resolved before continuing with the analysis. The nature of the issues and how they should be addressed will depend on the specific context and purpose of the analysis.\n"
   ]
  },
  {
   "cell_type": "markdown",
   "id": "a6291452",
   "metadata": {},
   "source": [
    "## 3.1 Check Missing Values"
   ]
  },
  {
   "cell_type": "code",
   "execution_count": 10,
   "id": "c5705d4a",
   "metadata": {},
   "outputs": [
    {
     "data": {
      "text/plain": [
       "gender                         0\n",
       "race/ethnicity                 0\n",
       "parental level of education    0\n",
       "lunch                          0\n",
       "test preparation course        0\n",
       "math score                     0\n",
       "reading score                  0\n",
       "writing score                  0\n",
       "dtype: int64"
      ]
     },
     "execution_count": 10,
     "metadata": {},
     "output_type": "execute_result"
    }
   ],
   "source": [
    "df.isna().sum()"
   ]
  },
  {
   "cell_type": "markdown",
   "id": "cd44242d",
   "metadata": {},
   "source": [
    "> There are no missing values in the data set. "
   ]
  },
  {
   "cell_type": "markdown",
   "id": "3c710a1b",
   "metadata": {},
   "source": [
    "## 3.2 Check Duplicates"
   ]
  },
  {
   "cell_type": "code",
   "execution_count": 12,
   "id": "d67a713a",
   "metadata": {},
   "outputs": [
    {
     "data": {
      "text/plain": [
       "0"
      ]
     },
     "execution_count": 12,
     "metadata": {},
     "output_type": "execute_result"
    }
   ],
   "source": [
    "df.duplicated().sum()"
   ]
  },
  {
   "cell_type": "markdown",
   "id": "34613be3",
   "metadata": {},
   "source": [
    "> There are no duplicates in the data set"
   ]
  },
  {
   "cell_type": "markdown",
   "id": "c01ed9f1",
   "metadata": {},
   "source": [
    "- If there are duplicates in any data set, remove them with this code \n",
    "\n",
    "```python\n",
    "# The drop_duplicates function considers all columns to identify duplicates.\n",
    "df = df.drop_duplicates()\n",
    "\n",
    "# Remove duplicates based on certain columns\n",
    "df = df.drop_duplicates(subset=['column1', 'column2'])\n",
    "```\n",
    "- After removing duplicates, it's usually a good idea to reset the index of DataFrame.\n",
    "\n",
    "```python\n",
    "df = df.reset_index(drop=True)\n",
    "```\n"
   ]
  },
  {
   "cell_type": "markdown",
   "id": "9c53289a",
   "metadata": {},
   "source": [
    "## 3.3 Check Data Types"
   ]
  },
  {
   "cell_type": "code",
   "execution_count": 13,
   "id": "b3278173",
   "metadata": {},
   "outputs": [
    {
     "name": "stdout",
     "output_type": "stream",
     "text": [
      "<class 'pandas.core.frame.DataFrame'>\n",
      "RangeIndex: 1000 entries, 0 to 999\n",
      "Data columns (total 8 columns):\n",
      " #   Column                       Non-Null Count  Dtype \n",
      "---  ------                       --------------  ----- \n",
      " 0   gender                       1000 non-null   object\n",
      " 1   race/ethnicity               1000 non-null   object\n",
      " 2   parental level of education  1000 non-null   object\n",
      " 3   lunch                        1000 non-null   object\n",
      " 4   test preparation course      1000 non-null   object\n",
      " 5   math score                   1000 non-null   int64 \n",
      " 6   reading score                1000 non-null   int64 \n",
      " 7   writing score                1000 non-null   int64 \n",
      "dtypes: int64(3), object(5)\n",
      "memory usage: 62.6+ KB\n"
     ]
    }
   ],
   "source": [
    "df.info()"
   ]
  },
  {
   "cell_type": "markdown",
   "id": "72f44b5e",
   "metadata": {},
   "source": [
    "## 3.4 Checking the number of unique values in each column"
   ]
  },
  {
   "cell_type": "code",
   "execution_count": 15,
   "id": "16b31db6",
   "metadata": {},
   "outputs": [
    {
     "data": {
      "text/plain": [
       "gender                          2\n",
       "race/ethnicity                  5\n",
       "parental level of education     6\n",
       "lunch                           2\n",
       "test preparation course         2\n",
       "math score                     81\n",
       "reading score                  72\n",
       "writing score                  77\n",
       "dtype: int64"
      ]
     },
     "execution_count": 15,
     "metadata": {},
     "output_type": "execute_result"
    }
   ],
   "source": [
    "df.nunique()"
   ]
  },
  {
   "cell_type": "markdown",
   "id": "0725a543",
   "metadata": {},
   "source": [
    "## 3.5 Checking statistics of the data set "
   ]
  },
  {
   "cell_type": "code",
   "execution_count": 16,
   "id": "4dcce25e",
   "metadata": {},
   "outputs": [
    {
     "data": {
      "text/html": [
       "<div>\n",
       "<style scoped>\n",
       "    .dataframe tbody tr th:only-of-type {\n",
       "        vertical-align: middle;\n",
       "    }\n",
       "\n",
       "    .dataframe tbody tr th {\n",
       "        vertical-align: top;\n",
       "    }\n",
       "\n",
       "    .dataframe thead th {\n",
       "        text-align: right;\n",
       "    }\n",
       "</style>\n",
       "<table border=\"1\" class=\"dataframe\">\n",
       "  <thead>\n",
       "    <tr style=\"text-align: right;\">\n",
       "      <th></th>\n",
       "      <th>math score</th>\n",
       "      <th>reading score</th>\n",
       "      <th>writing score</th>\n",
       "    </tr>\n",
       "  </thead>\n",
       "  <tbody>\n",
       "    <tr>\n",
       "      <th>count</th>\n",
       "      <td>1000.00000</td>\n",
       "      <td>1000.000000</td>\n",
       "      <td>1000.000000</td>\n",
       "    </tr>\n",
       "    <tr>\n",
       "      <th>mean</th>\n",
       "      <td>66.08900</td>\n",
       "      <td>69.169000</td>\n",
       "      <td>68.054000</td>\n",
       "    </tr>\n",
       "    <tr>\n",
       "      <th>std</th>\n",
       "      <td>15.16308</td>\n",
       "      <td>14.600192</td>\n",
       "      <td>15.195657</td>\n",
       "    </tr>\n",
       "    <tr>\n",
       "      <th>min</th>\n",
       "      <td>0.00000</td>\n",
       "      <td>17.000000</td>\n",
       "      <td>10.000000</td>\n",
       "    </tr>\n",
       "    <tr>\n",
       "      <th>25%</th>\n",
       "      <td>57.00000</td>\n",
       "      <td>59.000000</td>\n",
       "      <td>57.750000</td>\n",
       "    </tr>\n",
       "    <tr>\n",
       "      <th>50%</th>\n",
       "      <td>66.00000</td>\n",
       "      <td>70.000000</td>\n",
       "      <td>69.000000</td>\n",
       "    </tr>\n",
       "    <tr>\n",
       "      <th>75%</th>\n",
       "      <td>77.00000</td>\n",
       "      <td>79.000000</td>\n",
       "      <td>79.000000</td>\n",
       "    </tr>\n",
       "    <tr>\n",
       "      <th>max</th>\n",
       "      <td>100.00000</td>\n",
       "      <td>100.000000</td>\n",
       "      <td>100.000000</td>\n",
       "    </tr>\n",
       "  </tbody>\n",
       "</table>\n",
       "</div>"
      ],
      "text/plain": [
       "       math score  reading score  writing score\n",
       "count  1000.00000    1000.000000    1000.000000\n",
       "mean     66.08900      69.169000      68.054000\n",
       "std      15.16308      14.600192      15.195657\n",
       "min       0.00000      17.000000      10.000000\n",
       "25%      57.00000      59.000000      57.750000\n",
       "50%      66.00000      70.000000      69.000000\n",
       "75%      77.00000      79.000000      79.000000\n",
       "max     100.00000     100.000000     100.000000"
      ]
     },
     "execution_count": 16,
     "metadata": {},
     "output_type": "execute_result"
    }
   ],
   "source": [
    "df.describe()"
   ]
  },
  {
   "cell_type": "markdown",
   "id": "2f27598b",
   "metadata": {},
   "source": [
    "# Dataset Insights\n",
    "\n",
    "The dataset contains scores for Mathematics, Reading, and Writing for 1000 students.\n",
    "\n",
    "## Math Score\n",
    "\n",
    "- The average (mean) Mathematics score is approximately 66.09, which suggests that students tend to perform moderately well in Mathematics.\n",
    "- The standard deviation is around 15.16, indicating there's a fair amount of variation in the Mathematics scores. Some students have very high scores, and others have very low scores.\n",
    "- The minimum score in Mathematics is 0, indicating that at least one student has scored zero in Mathematics. This could be due to several reasons such as not attempting the exam, lack of understanding, or other factors.\n",
    "- The maximum score is 100, indicating that at least one student has achieved full marks in Mathematics.\n",
    "- The 25th, 50th (median), and 75th percentiles suggest that half of the students have scores between 57 and 77.\n",
    "\n",
    "## Reading Score\n",
    "\n",
    "- The average Reading score is approximately 69.17, which is slightly higher than the average Mathematics score.\n",
    "- The standard deviation is around 14.6, which is a bit less than that for Mathematics. This might suggest that students' Reading scores are slightly more clustered around the mean compared to Mathematics.\n",
    "- The minimum Reading score is 17, and the maximum is 100. This shows that students overall performed better in Reading compared to Mathematics as the lowest score is significantly higher.\n",
    "- Half of the students have Reading scores between 59 and 79.\n",
    "\n",
    "## Writing Score\n",
    "\n",
    "- The average Writing score is around 68.05, which is close to the average Mathematics score, but slightly less than the average Reading score.\n",
    "- The standard deviation is approximately 15.19, indicating a similar spread to the Mathematics scores.\n",
    "- The minimum Writing score is 10, and the maximum is 100. The minimum is higher than that of Mathematics but lower than Reading, indicating that students on average found the Writing section slightly more challenging than Reading but less so than Mathematics.\n",
    "- Half of the students have Writing scores between approximately 57.75 and 79.\n",
    "\n",
    "# General Insights\n",
    "\n",
    "From these observations students seem to perform slightly better in Reading, followed closely by Writing, and then Mathematics. However, there is a notable spread in the scores for all three subjects. Some students have achieved perfect scores, while others have struggled significantly. These insights could form the basis for further investigation into factors contributing to these score distributions.\n"
   ]
  },
  {
   "cell_type": "markdown",
   "id": "4895a072",
   "metadata": {},
   "source": [
    "# Brief Insights\n",
    "\n",
    "This dataset contains Mathematics, Reading, and Writing scores for 1000 students.\n",
    "\n",
    "- **Math Score**: Average score is approximately 66.09, with a minimum of 0 and a maximum of 100.\n",
    "- **Reading Score**: Average score is slightly higher at 69.17, with a minimum of 17 and a maximum of 100. This indicates students performed somewhat better in Reading than Mathematics.\n",
    "- **Writing Score**: The average score is around 68.05, with a minimum of 10 and a maximum of 100. This suggests performance in Writing lies between Mathematics and Reading.\n",
    "\n",
    "In general, students perform slightly better in Reading, followed by Writing, then Mathematics. However, there is a considerable spread in scores, highlighting varied performance levels across students.\n"
   ]
  },
  {
   "cell_type": "markdown",
   "id": "9195d3df",
   "metadata": {},
   "source": [
    "## 3.7 Exploring Data"
   ]
  },
  {
   "cell_type": "code",
   "execution_count": null,
   "id": "270d06ab",
   "metadata": {},
   "outputs": [],
   "source": []
  }
 ],
 "metadata": {
  "kernelspec": {
   "display_name": "Python 3 (ipykernel)",
   "language": "python",
   "name": "python3"
  },
  "language_info": {
   "codemirror_mode": {
    "name": "ipython",
    "version": 3
   },
   "file_extension": ".py",
   "mimetype": "text/x-python",
   "name": "python",
   "nbconvert_exporter": "python",
   "pygments_lexer": "ipython3",
   "version": "3.10.10"
  }
 },
 "nbformat": 4,
 "nbformat_minor": 5
}
